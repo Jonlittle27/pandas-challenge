{
 "cells": [
  {
   "cell_type": "code",
   "execution_count": null,
   "metadata": {},
   "outputs": [],
   "source": [
    "##dependecies and Data loading\n",
    "import pandas as pd\n",
    "\n",
    "##path to csv\n",
    "\n",
    "path = \"../resources/purchase_data.csv\"\n",
    "\n",
    "purchase_df = pd.read_csv(path)\n",
    "\n",
    "purchase_df.head()"
   ]
  },
  {
   "cell_type": "code",
   "execution_count": null,
   "metadata": {},
   "outputs": [],
   "source": [
    "#counting players\n",
    "unique_players = pd.DataFrame({\"Total Players\":purchase_df[\"SN\"].unique()})\n",
    "total_players = unique_players[\"Total Players\"].count()\n",
    "total_players"
   ]
  },
  {
   "cell_type": "code",
   "execution_count": null,
   "metadata": {},
   "outputs": [],
   "source": [
    "#Unique items/Average Price/Number of Purchases/Total Revenue\n",
    "unique_items = pd.DataFrame(purchase_df[\"Item Name\"].unique())\n",
    "item_count = unique_items.count()\n",
    "avg_price = purchase_df[\"Price\"].mean()\n",
    "num_purchases = purchase_df[\"Purchase ID\"].count()\n",
    "total_revenue = purchase_df[\"Price\"].sum()\n",
    "#Summary Table\n",
    "summary_df = pd.DataFrame({\"Number of Unique Items\": item_count,\n",
    "                          \"Average Price\": avg_price,\n",
    "                          \"Number of Purchases\": num_purchases,\n",
    "                          \"Total Revenue\": total_revenue\n",
    "                          })\n",
    "summary_df[\"Average Price\"] = summary_df[\"Average Price\"].map(\"${:.2f}\".format)\n",
    "summary_df[\"Total Revenue\"] = summary_df[\"Total Revenue\"].map(\"${:,.2f}\".format)\n",
    "summary_df"
   ]
  },
  {
   "cell_type": "code",
   "execution_count": null,
   "metadata": {},
   "outputs": [],
   "source": [
    "#Gender Demographics\n",
    "genders = purchase_df[\"Gender\"].value_counts()\n",
    "gender_demo = pd.DataFrame({\"Total Count\": genders,\n",
    "                           \"Percentage\": round(genders/780,2)*100})\n",
    "gender_demo[\"Percentage\"] = gender_demo[\"Percentage\"].map(\"{0:.2f}%\".format)\n",
    "gender_demo"
   ]
  },
  {
   "cell_type": "code",
   "execution_count": null,
   "metadata": {},
   "outputs": [],
   "source": [
    "#Gender Purchase Report\n",
    "#Grouping gender\n",
    "grouped_gender = purchase_df.groupby([\"Gender\"])\n",
    "#purchase Count\n",
    "gender_pc = grouped_gender[\"Purchase ID\"].count()\n",
    "#Average purchase price \n",
    "gender_avgp = grouped_gender[\"Price\"].mean()\n",
    "#Total Purchase Value\n",
    "total_revenue = grouped_gender[\"Price\"].sum()\n",
    "#Average total purchase per person\n",
    "gender_unique_sn = grouped_gender[\"SN\"].unique()\n",
    "unique_f = len(gender_unique_sn[\"Female\"])\n",
    "unique_m = len(gender_unique_sn[\"Male\"])\n",
    "unique_nd = len(gender_unique_sn[\"Other / Non-Disclosed\"])\n",
    "\n",
    "#Summary Table\n",
    "summary_gender = pd.DataFrame({\"Purchase Count\": gender_pc,\n",
    "                              \"Average Purchase Price\":round(gender_avgp,2),\n",
    "                              \"Total Purchase Value\":total_revenue,\n",
    "                              \"Avg Total Purchase per Person\":round(total_revenue/[unique_f,unique_m,unique_nd],2)})\n",
    "summary_gender[\"Average Purchase Price\"] = summary_gender[\"Average Purchase Price\"].map(\"${:.3}\".format)\n",
    "summary_gender[\"Total Purchase Value\"] = summary_gender[\"Total Purchase Value\"].map(\"${:,.6}\".format)\n",
    "summary_gender[\"Avg Total Purchase per Person\"] = summary_gender[\"Avg Total Purchase per Person\"].map(\"${:.3}\".format)\n",
    "summary_gender\n"
   ]
  },
  {
   "cell_type": "code",
   "execution_count": null,
   "metadata": {},
   "outputs": [],
   "source": [
    "#Age Demographics bins\n",
    "bins_age = [0,9,14,19,24,29,34,39,50]\n",
    "bins_labels = [\"<10\",\"10-14\",\"15-19\",\"20-24\",\"25-29\",\"30-34\",\"35-39\",\"40+\"]\n",
    "#Adding to Df and grouping\n",
    "purchase_df[\"\"] = pd.cut(purchase_df[\"Age\"], bins_age, labels=bins_labels)\n",
    "age_group = purchase_df.groupby(\"\")\n",
    "ages = age_group[\"Purchase ID\"].count()\n",
    "\n",
    "# New df\n",
    "age_summary = pd.DataFrame({\"Total Count\":ages,\n",
    "                           \"Percentage of Players\":round((ages/576)*100,2)})\n",
    "age_summary[\"Percentage of Players\"] = age_summary[\"Percentage of Players\"].map(\"{0:.2f}%\".format)\n",
    "age_summary\n",
    "\n"
   ]
  },
  {
   "cell_type": "code",
   "execution_count": null,
   "metadata": {},
   "outputs": [],
   "source": [
    "#Age Purchase Report\n",
    "#Age Demographics bins\n",
    "bins_age = [0,9,14,19,24,29,34,39,50]\n",
    "bins_labels = [\"<10\",\"10-14\",\"15-19\",\"20-24\",\"25-29\",\"30-34\",\"35-39\",\"40+\"]\n",
    "#Adding to Df and grouping\n",
    "purchase_df[\"Age Ranges\"] = pd.cut(purchase_df[\"Age\"], bins_age, labels=bins_labels)\n",
    "age_group = purchase_df.groupby(\"Age Ranges\")\n",
    "#Age Purchase Count\n",
    "age_pc = age_group[\"Purchase ID\"].count()\n",
    "#Age Group Average Price\n",
    "age_avgp = round(age_group[\"Price\"].mean(),2)\n",
    "#Age Total Revenue\n",
    "age_total = age_group[\"Price\"].sum()\n",
    "#Average total purchase per Person\n",
    "\n",
    "# New df\n",
    "age_analysis = pd.DataFrame({\"Purchase Count\":age_pc,\n",
    "                           \"Average Purchase Price\":age_avgp,\n",
    "                            \"Total Purchase Value\":age_total,\n",
    "                            \"Avg Total Purchase per Person\":round(age_total/age_pc,2)})\n",
    "\n",
    "age_analysis[\"Average Purchase Price\"] = age_analysis[\"Average Purchase Price\"].map(\"${:.3}\".format)\n",
    "age_analysis[\"Total Purchase Value\"] = age_analysis[\"Total Purchase Value\"].map(\"${:,.2f}\".format)\n",
    "age_analysis[\"Avg Total Purchase per Person\"] = age_analysis[\"Avg Total Purchase per Person\"].map(\"${:.2f}\".format)\n",
    "\n",
    "age_analysis"
   ]
  },
  {
   "cell_type": "code",
   "execution_count": null,
   "metadata": {},
   "outputs": [],
   "source": [
    "#Top Spenders\n",
    "spenders = purchase_df.groupby(\"SN\")\n",
    "spender_pc = spenders[\"Purchase ID\"].count()\n",
    "spender_avgp = round(spenders[\"Price\"].mean(),2)\n",
    "spender_total = spenders[\"Price\"].sum()\n",
    "\n",
    "spenders_df = pd.DataFrame({\"Purchase Count\":spender_pc,\n",
    "                           \"Average Purchase Price\":spender_avgp,\n",
    "                           \"Total Purchase Value\":spender_total})\n",
    "\n",
    "spenders_df[\"Average Purchase Price\"] = spenders_df[\"Average Purchase Price\"].map(\"${:.2f}\".format)\n",
    "# spenders_df[\"Total Purchase Value\"] = spenders_df[\"Total Purchase Value\"].map(\"${:.2f}\".format) \n",
    "#Above was messing with my results when I changed the format\n",
    "\n",
    "\n",
    "top_spenders = spenders_df.sort_values(\"Total Purchase Value\",ascending=False)\n",
    "top_spenders.head()"
   ]
  },
  {
   "cell_type": "code",
   "execution_count": null,
   "metadata": {},
   "outputs": [],
   "source": [
    "#Most popular items\n",
    "data = purchase_df.loc[:,[\"Item ID\",\"Item Name\", \"Price\"]]\n",
    "\n",
    "item_group = data.groupby([\"Item ID\",\"Item Name\"])\n",
    "item_pc = item_group[\"Item ID\"].count()\n",
    "item_price = item_group[\"Price\"].mean()\n",
    "item_total = item_group[\"Price\"].sum()\n",
    "#summary table\n",
    "item_summary = pd.DataFrame({\"Purchase Count\":item_pc,\n",
    "                            \"Item Price\": item_price,\n",
    "                            \"Total Purchase Value\":item_total})\n",
    "popular_items = item_summary.sort_values(\"Purchase Count\",ascending=False)\n",
    "\n",
    "popular_items[\"Item Price\"] = popular_items[\"Item Price\"].map(\"${:.2f}\".format)\n",
    "popular_items[\"Total Purchase Value\"] = popular_items[\"Total Purchase Value\"].map(\"${:.2f}\".format)\n",
    "\n",
    "popular_items.head()\n",
    "\n",
    "\n",
    "\n"
   ]
  },
  {
   "cell_type": "code",
   "execution_count": null,
   "metadata": {},
   "outputs": [],
   "source": [
    "#Most Profitable Items\n",
    "profitable_items = item_summary.sort_values(\"Total Purchase Value\",ascending = False)\n",
    "\n",
    "profitable_items[\"Item Price\"] = profitable_items[\"Item Price\"].map(\"${:.2f}\".format)\n",
    "profitable_items[\"Total Purchase Value\"] = profitable_items[\"Total Purchase Value\"].map(\"${:.2f}\".format)\n",
    "\n",
    "profitable_items.head()"
   ]
  }
 ],
 "metadata": {
  "kernelspec": {
   "display_name": "Python 3",
   "language": "python",
   "name": "python3"
  },
  "language_info": {
   "codemirror_mode": {
    "name": "ipython",
    "version": 3
   },
   "file_extension": ".py",
   "mimetype": "text/x-python",
   "name": "python",
   "nbconvert_exporter": "python",
   "pygments_lexer": "ipython3",
   "version": "3.7.4"
  }
 },
 "nbformat": 4,
 "nbformat_minor": 2
}
